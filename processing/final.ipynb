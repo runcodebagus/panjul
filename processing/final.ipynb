{
 "cells": [
  {
   "cell_type": "code",
   "execution_count": 1,
   "id": "1c3f5010-caee-4008-8f13-120e004da7da",
   "metadata": {},
   "outputs": [
    {
     "name": "stderr",
     "output_type": "stream",
     "text": [
      "[nltk_data] Downloading package stopwords to\n",
      "[nltk_data]     C:\\Users\\runcodebagus\\AppData\\Roaming\\nltk_data...\n",
      "[nltk_data]   Package stopwords is already up-to-date!\n"
     ]
    }
   ],
   "source": [
    "# 1. Import libraries\n",
    "import pandas as pd\n",
    "import numpy as np\n",
    "import re\n",
    "import matplotlib.pyplot as plt\n",
    "import seaborn as sns\n",
    "import joblib\n",
    "\n",
    "from sklearn.model_selection import train_test_split, GridSearchCV\n",
    "from sklearn.feature_extraction.text import TfidfVectorizer\n",
    "from sklearn.naive_bayes import MultinomialNB\n",
    "from sklearn.metrics import accuracy_score, classification_report, confusion_matrix\n",
    "\n",
    "from Sastrawi.Stemmer.StemmerFactory import StemmerFactory\n",
    "import nltk\n",
    "from nltk.corpus import stopwords\n",
    "from imblearn.over_sampling import SMOTE\n",
    "\n",
    "nltk.download('stopwords')\n",
    "stop_words = set(stopwords.words('indonesian'))"
   ]
  },
  {
   "cell_type": "code",
   "execution_count": 3,
   "id": "776641e0-5899-4e42-b151-89463e533dd1",
   "metadata": {},
   "outputs": [
    {
     "data": {
      "text/html": [
       "<div>\n",
       "<style scoped>\n",
       "    .dataframe tbody tr th:only-of-type {\n",
       "        vertical-align: middle;\n",
       "    }\n",
       "\n",
       "    .dataframe tbody tr th {\n",
       "        vertical-align: top;\n",
       "    }\n",
       "\n",
       "    .dataframe thead th {\n",
       "        text-align: right;\n",
       "    }\n",
       "</style>\n",
       "<table border=\"1\" class=\"dataframe\">\n",
       "  <thead>\n",
       "    <tr style=\"text-align: right;\">\n",
       "      <th></th>\n",
       "      <th>sentimen</th>\n",
       "      <th>tweet</th>\n",
       "    </tr>\n",
       "  </thead>\n",
       "  <tbody>\n",
       "    <tr>\n",
       "      <th>0</th>\n",
       "      <td>-1</td>\n",
       "      <td>lagu bosan apa yang aku save ni huhuhuhuhuhuhu...</td>\n",
       "    </tr>\n",
       "    <tr>\n",
       "      <th>1</th>\n",
       "      <td>-1</td>\n",
       "      <td>kita lanjutkan saja diam ini hingga kau dan ak...</td>\n",
       "    </tr>\n",
       "    <tr>\n",
       "      <th>2</th>\n",
       "      <td>1</td>\n",
       "      <td>doa rezeki tak putus inna haa zaa larizquna ma...</td>\n",
       "    </tr>\n",
       "    <tr>\n",
       "      <th>3</th>\n",
       "      <td>1</td>\n",
       "      <td>makasih loh ntar kita bagi hasil aku 99 9 sisa...</td>\n",
       "    </tr>\n",
       "    <tr>\n",
       "      <th>4</th>\n",
       "      <td>-1</td>\n",
       "      <td>aku tak faham betul jenis orang malaysia yang ...</td>\n",
       "    </tr>\n",
       "  </tbody>\n",
       "</table>\n",
       "</div>"
      ],
      "text/plain": [
       "   sentimen                                              tweet\n",
       "0        -1  lagu bosan apa yang aku save ni huhuhuhuhuhuhu...\n",
       "1        -1  kita lanjutkan saja diam ini hingga kau dan ak...\n",
       "2         1  doa rezeki tak putus inna haa zaa larizquna ma...\n",
       "3         1  makasih loh ntar kita bagi hasil aku 99 9 sisa...\n",
       "4        -1  aku tak faham betul jenis orang malaysia yang ..."
      ]
     },
     "execution_count": 3,
     "metadata": {},
     "output_type": "execute_result"
    }
   ],
   "source": [
    "# 2. Load dataset\n",
    "df = pd.read_csv(\"cleaned_split_sentiment.csv\")\n",
    "df.head()"
   ]
  },
  {
   "cell_type": "code",
   "execution_count": 4,
   "id": "3fbbbe9c-f55e-4bda-abe5-ea3758e577f9",
   "metadata": {},
   "outputs": [],
   "source": [
    "# 3. Setup stemmer\n",
    "factory = StemmerFactory()\n",
    "stemmer = factory.create_stemmer()"
   ]
  },
  {
   "cell_type": "code",
   "execution_count": 6,
   "id": "b3f85b1f-d62a-4c7d-8065-f5c36ca87d75",
   "metadata": {},
   "outputs": [],
   "source": [
    "# 4. Preprocessing dengan stemming + stopwords\n",
    "def clean_text(text):\n",
    "    text = str(text).lower()\n",
    "    text = re.sub(r\"http\\S+|www\\S+\", \"\", text)       # remove URLs\n",
    "    text = re.sub(r\"[^a-z\\s]\", \" \", text)            # remove symbols/numbers\n",
    "    text = re.sub(r\"\\s+\", \" \", text).strip()         # remove extra whitespace\n",
    "    tokens = text.split()\n",
    "    tokens = [t for t in tokens if t not in stop_words]\n",
    "    stemmed = [stemmer.stem(t) for t in tokens]\n",
    "    return \" \".join(stemmed)\n",
    "\n",
    "df['clean_tweet'] = df['tweet'].apply(clean_text)"
   ]
  },
  {
   "cell_type": "code",
   "execution_count": 7,
   "id": "5b74870e-92f3-4989-9652-073d7d38d548",
   "metadata": {},
   "outputs": [],
   "source": [
    "# 5. TF-IDF vectorizer\n",
    "tfidf = TfidfVectorizer(ngram_range=(1,2), max_df=0.9, min_df=5)\n",
    "X = tfidf.fit_transform(df['clean_tweet'])\n",
    "y = df['sentimen']"
   ]
  },
  {
   "cell_type": "code",
   "execution_count": 8,
   "id": "4c9982d4-a56d-4dbb-9313-caa7d9cb0607",
   "metadata": {},
   "outputs": [
    {
     "name": "stdout",
     "output_type": "stream",
     "text": [
      "Distribusi sebelum balancing:\n",
      " sentimen\n",
      " 0    5327\n",
      "-1    2887\n",
      " 1    2592\n",
      "Name: count, dtype: int64\n",
      "Distribusi setelah SMOTE:\n",
      " sentimen\n",
      "-1    5327\n",
      " 1    5327\n",
      " 0    5327\n",
      "Name: count, dtype: int64\n"
     ]
    }
   ],
   "source": [
    "# 6. SMOTE balancing\n",
    "print(\"Distribusi sebelum balancing:\\n\", pd.Series(y).value_counts())\n",
    "smote = SMOTE(random_state=42)\n",
    "X_bal, y_bal = smote.fit_resample(X, y)\n",
    "print(\"Distribusi setelah SMOTE:\\n\", pd.Series(y_bal).value_counts())"
   ]
  },
  {
   "cell_type": "code",
   "execution_count": 12,
   "id": "d1e64b9d-1569-4cbb-af58-6b7b63e9a5ab",
   "metadata": {},
   "outputs": [],
   "source": [
    "# 7. Split data\n",
    "X_train, X_test, y_train, y_test = train_test_split(X_bal, y_bal, test_size=0.1, random_state=42)"
   ]
  },
  {
   "cell_type": "code",
   "execution_count": 13,
   "id": "ee22d786-c97d-4f53-857e-bc5c0dd0985a",
   "metadata": {},
   "outputs": [
    {
     "name": "stdout",
     "output_type": "stream",
     "text": [
      "Best Params: {'alpha': 0.5, 'fit_prior': False}\n"
     ]
    }
   ],
   "source": [
    "# 8. Hyperparameter tuning\n",
    "param_grid = {\n",
    "    'alpha': [0.1, 0.5, 1.0],\n",
    "    'fit_prior': [True, False]\n",
    "}\n",
    "\n",
    "grid_search = GridSearchCV(MultinomialNB(), param_grid, cv=5, scoring='accuracy')\n",
    "grid_search.fit(X_train, y_train)\n",
    "best_model = grid_search.best_estimator_\n",
    "\n",
    "print(\"Best Params:\", grid_search.best_params_)\n"
   ]
  },
  {
   "cell_type": "code",
   "execution_count": 14,
   "id": "b21dcf67-fa52-458d-b73b-86dcfdccf065",
   "metadata": {},
   "outputs": [
    {
     "name": "stdout",
     "output_type": "stream",
     "text": [
      "Akurasi: 0.6378986866791745\n",
      "Classification Report:\n",
      "               precision    recall  f1-score   support\n",
      "\n",
      "          -1       0.61      0.70      0.65       511\n",
      "           0       0.61      0.56      0.58       513\n",
      "           1       0.69      0.66      0.67       575\n",
      "\n",
      "    accuracy                           0.64      1599\n",
      "   macro avg       0.64      0.64      0.64      1599\n",
      "weighted avg       0.64      0.64      0.64      1599\n",
      "\n"
     ]
    }
   ],
   "source": [
    "# 9. Evaluation\n",
    "y_pred = best_model.predict(X_test)\n",
    "print(\"Akurasi:\", accuracy_score(y_test, y_pred))\n",
    "print(\"Classification Report:\\n\", classification_report(y_test, y_pred))\n"
   ]
  },
  {
   "cell_type": "code",
   "execution_count": 15,
   "id": "cb5d0165-8d74-4e85-9507-699cf277ccf6",
   "metadata": {},
   "outputs": [
    {
     "data": {
      "image/png": "[encoded data removed]",
      "text/plain": [
       "<Figure size 800x600 with 2 Axes>"
      ]
     },
     "metadata": {},
     "output_type": "display_data"
    }
   ],
   "source": [
    "# 10. Confusion matrix\n",
    "cm = confusion_matrix(y_test, y_pred)\n",
    "plt.figure(figsize=(8,6))\n",
    "sns.heatmap(cm, annot=True, fmt='d', cmap='Blues', xticklabels=[-1,0,1], yticklabels=[-1,0,1])\n",
    "plt.xlabel('Predicted')\n",
    "plt.ylabel('Actual')\n",
    "plt.title('Confusion Matrix')\n",
    "plt.tight_layout()\n",
    "plt.savefig(\"confusion_matrix_stemmed.png\")\n",
    "plt.show()"
   ]
  },
  {
   "cell_type": "code",
   "execution_count": null,
   "id": "e1a98f24-13f0-4463-9193-b6763a2a3615",
   "metadata": {},
   "outputs": [],
   "source": [
    "# 11. Save model and vectorizer\n",
    "joblib.dump(best_model, \"nb_model_sastrawi.pkl\")\n",
    "joblib.dump(tfidf, \"tfidf_sastrawi.pkl\")\n",
    "\n"
   ]
  },
  {
   "cell_type": "code",
   "execution_count": null,
   "id": "81383ebc-be63-4d08-a83f-306a356d5389",
   "metadata": {},
   "outputs": [],
   "source": [
    "# 12. Save cleaned dataset\n",
    "df.to_csv(\"cleaned_dataset_with_stemming.csv\", index=False)\n"
   ]
  },
  {
   "cell_type": "code",
   "execution_count": null,
   "id": "676e0c15-951c-4130-b2a9-7433eb891d9d",
   "metadata": {},
   "outputs": [],
   "source": [
    "import joblib\n",
    "import re\n",
    "from Sastrawi.Stemmer.StemmerFactory import StemmerFactory\n",
    "from nltk.corpus import stopwords\n",
    "\n",
    "# Load model dan vectorizer\n",
    "model = joblib.load(\"nb_model_sastrawi.pkl\")\n",
    "vectorizer = joblib.load(\"tfidf_sastrawi.pkl\")\n",
    "\n",
    "# Setup stemmer dan stopwords\n",
    "factory = StemmerFactory()\n",
    "stemmer = factory.create_stemmer()\n",
    "stop_words = set(stopwords.words('indonesian'))\n",
    "\n",
    "# Preprocessing fungsi\n",
    "def preprocess_input(text):\n",
    "    text = str(text).lower()\n",
    "    text = re.sub(r\"http\\S+|www\\S+\", \"\", text)\n",
    "    text = re.sub(r\"[^a-z\\s]\", \" \", text)\n",
    "    text = re.sub(r\"\\s+\", \" \", text).strip()\n",
    "    tokens = text.split()\n",
    "    tokens = [t for t in tokens if t not in stop_words]\n",
    "    stemmed = [stemmer.stem(t) for t in tokens]\n",
    "    return \" \".join(stemmed)\n",
    "\n",
    "# Tes kalimat\n",
    "input_text = \"Saya sangat kecewa dengan layanan ini\"\n",
    "cleaned = preprocess_input(input_text)\n",
    "vector = vectorizer.transform([cleaned])\n",
    "prediction = model.predict(vector)[0]\n",
    "\n",
    "# Mapping hasil\n",
    "label_map = {-1: \"Negatif\", 0: \"Netral\", 1: \"Positif\"}\n",
    "print(\"Kalimat:\", input_text)\n",
    "print(\"Hasil Sentimen:\", label_map[prediction])\n"
   ]
  }
 ],
 "metadata": {
  "kernelspec": {
   "display_name": "Python 3 (ipykernel)",
   "language": "python",
   "name": "python3"
  },
  "language_info": {
   "codemirror_mode": {
    "name": "ipython",
    "version": 3
   },
   "file_extension": ".py",
   "mimetype": "text/x-python",
   "name": "python",
   "nbconvert_exporter": "python",
   "pygments_lexer": "ipython3",
   "version": "3.10.6"
  }
 },
 "nbformat": 4,
 "nbformat_minor": 5
}
