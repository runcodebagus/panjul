{
 "cells": [
  {
   "cell_type": "code",
   "execution_count": 1,
   "id": "f9278160-fea1-4d47-9c08-0e53c4efd4b1",
   "metadata": {},
   "outputs": [
    {
     "name": "stderr",
     "output_type": "stream",
     "text": [
      "[nltk_data] Downloading package stopwords to\n",
      "[nltk_data]     C:\\Users\\runcodebagus\\AppData\\Roaming\\nltk_data...\n",
      "[nltk_data]   Package stopwords is already up-to-date!\n"
     ]
    }
   ],
   "source": [
    "# 1. Import libraries\n",
    "import pandas as pd\n",
    "import numpy as np\n",
    "import re\n",
    "import matplotlib.pyplot as plt\n",
    "import seaborn as sns\n",
    "import joblib\n",
    "\n",
    "from sklearn.model_selection import train_test_split, GridSearchCV\n",
    "from sklearn.feature_extraction.text import TfidfVectorizer\n",
    "from sklearn.naive_bayes import MultinomialNB\n",
    "from sklearn.metrics import accuracy_score, classification_report, confusion_matrix\n",
    "\n",
    "import nltk\n",
    "from nltk.corpus import stopwords\n",
    "from imblearn.over_sampling import SMOTE\n",
    "\n",
    "nltk.download('stopwords')\n",
    "stop_words = set(stopwords.words('indonesian'))"
   ]
  },
  {
   "cell_type": "code",
   "execution_count": 2,
   "id": "05b1b2ac-f5ba-40b3-81f5-1f3583dc5622",
   "metadata": {},
   "outputs": [
    {
     "data": {
      "text/html": [
       "<div>\n",
       "<style scoped>\n",
       "    .dataframe tbody tr th:only-of-type {\n",
       "        vertical-align: middle;\n",
       "    }\n",
       "\n",
       "    .dataframe tbody tr th {\n",
       "        vertical-align: top;\n",
       "    }\n",
       "\n",
       "    .dataframe thead th {\n",
       "        text-align: right;\n",
       "    }\n",
       "</style>\n",
       "<table border=\"1\" class=\"dataframe\">\n",
       "  <thead>\n",
       "    <tr style=\"text-align: right;\">\n",
       "      <th></th>\n",
       "      <th>sentimen</th>\n",
       "      <th>tweet</th>\n",
       "    </tr>\n",
       "  </thead>\n",
       "  <tbody>\n",
       "    <tr>\n",
       "      <th>0</th>\n",
       "      <td>-1</td>\n",
       "      <td>lagu bosan apa yang aku save ni huhuhuhuhuhuhu...</td>\n",
       "    </tr>\n",
       "    <tr>\n",
       "      <th>1</th>\n",
       "      <td>-1</td>\n",
       "      <td>kita lanjutkan saja diam ini hingga kau dan ak...</td>\n",
       "    </tr>\n",
       "    <tr>\n",
       "      <th>2</th>\n",
       "      <td>1</td>\n",
       "      <td>doa rezeki tak putus inna haa zaa larizquna ma...</td>\n",
       "    </tr>\n",
       "    <tr>\n",
       "      <th>3</th>\n",
       "      <td>1</td>\n",
       "      <td>makasih loh ntar kita bagi hasil aku 99 9 sisa...</td>\n",
       "    </tr>\n",
       "    <tr>\n",
       "      <th>4</th>\n",
       "      <td>-1</td>\n",
       "      <td>aku tak faham betul jenis orang malaysia yang ...</td>\n",
       "    </tr>\n",
       "    <tr>\n",
       "      <th>...</th>\n",
       "      <td>...</td>\n",
       "      <td>...</td>\n",
       "    </tr>\n",
       "    <tr>\n",
       "      <th>10801</th>\n",
       "      <td>1</td>\n",
       "      <td>Jangan membandingkan kehidupanmu dengan kehidu...</td>\n",
       "    </tr>\n",
       "    <tr>\n",
       "      <th>10802</th>\n",
       "      <td>0</td>\n",
       "      <td>Sini uname lu ntar gua follow</td>\n",
       "    </tr>\n",
       "    <tr>\n",
       "      <th>10803</th>\n",
       "      <td>1</td>\n",
       "      <td>Apapun yg telah kamu lakukan apapun kesalahanm...</td>\n",
       "    </tr>\n",
       "    <tr>\n",
       "      <th>10804</th>\n",
       "      <td>1</td>\n",
       "      <td>3 cara untuk ingat semula apa yang kita dah ha...</td>\n",
       "    </tr>\n",
       "    <tr>\n",
       "      <th>10805</th>\n",
       "      <td>1</td>\n",
       "      <td>Semoga Allah permudahkan urusan aku amp orang ...</td>\n",
       "    </tr>\n",
       "  </tbody>\n",
       "</table>\n",
       "<p>10806 rows × 2 columns</p>\n",
       "</div>"
      ],
      "text/plain": [
       "       sentimen                                              tweet\n",
       "0            -1  lagu bosan apa yang aku save ni huhuhuhuhuhuhu...\n",
       "1            -1  kita lanjutkan saja diam ini hingga kau dan ak...\n",
       "2             1  doa rezeki tak putus inna haa zaa larizquna ma...\n",
       "3             1  makasih loh ntar kita bagi hasil aku 99 9 sisa...\n",
       "4            -1  aku tak faham betul jenis orang malaysia yang ...\n",
       "...         ...                                                ...\n",
       "10801         1  Jangan membandingkan kehidupanmu dengan kehidu...\n",
       "10802         0                      Sini uname lu ntar gua follow\n",
       "10803         1  Apapun yg telah kamu lakukan apapun kesalahanm...\n",
       "10804         1  3 cara untuk ingat semula apa yang kita dah ha...\n",
       "10805         1  Semoga Allah permudahkan urusan aku amp orang ...\n",
       "\n",
       "[10806 rows x 2 columns]"
      ]
     },
     "execution_count": 2,
     "metadata": {},
     "output_type": "execute_result"
    }
   ],
   "source": [
    "# 2. Load Dataset\n",
    "df = pd.read_csv(\"cleaned_split_sentiment.csv\")\n",
    "df"
   ]
  },
  {
   "cell_type": "code",
   "execution_count": 7,
   "id": "c2997ab2-27d2-4c00-b968-89000a28101d",
   "metadata": {},
   "outputs": [],
   "source": [
    "# 3. Preprocessing function\n",
    "def clean_text(text):\n",
    "    text = str(text).lower()\n",
    "    text = re.sub(r\"http\\S+|www\\S+\", \"\", text)          # hapus URL\n",
    "    text = re.sub(r\"[^a-z\\s]\", \" \", text)               # hapus karakter selain huruf\n",
    "    text = re.sub(r\"\\s+\", \" \", text).strip()            # hapus spasi berlebih\n",
    "    tokens = text.split()\n",
    "    return \" \".join([t for t in tokens if t not in stop_words])\n",
    "df['clean_tweet'] = df['tweet'].apply(clean_text)"
   ]
  },
  {
   "cell_type": "code",
   "execution_count": 8,
   "id": "5a325309-a1ba-43a0-b60b-94749f72cdaf",
   "metadata": {},
   "outputs": [],
   "source": [
    "# 4. TF-IDF Vectorization\n",
    "tfidf = TfidfVectorizer(ngram_range=(1,2), max_df=0.9, min_df=5)\n",
    "X = tfidf.fit_transform(df['clean_tweet'])\n",
    "y = df['sentimen']"
   ]
  },
  {
   "cell_type": "code",
   "execution_count": 9,
   "id": "a5c37826-704b-4b90-9826-005c0d40b23b",
   "metadata": {},
   "outputs": [
    {
     "name": "stdout",
     "output_type": "stream",
     "text": [
      "Distribusi awal:\n",
      " sentimen\n",
      " 0    5327\n",
      "-1    2887\n",
      " 1    2592\n",
      "Name: count, dtype: int64\n"
     ]
    }
   ],
   "source": [
    "# 5. Cek distribusi kelas sebelum balancing\n",
    "print(\"Distribusi awal:\\n\", pd.Series(y).value_counts())"
   ]
  },
  {
   "cell_type": "code",
   "execution_count": 10,
   "id": "2d67a1e7-d4d8-4a53-a680-beb9aecc91fe",
   "metadata": {},
   "outputs": [
    {
     "name": "stdout",
     "output_type": "stream",
     "text": [
      "Distribusi setelah SMOTE:\n",
      " sentimen\n",
      "-1    5327\n",
      " 1    5327\n",
      " 0    5327\n",
      "Name: count, dtype: int64\n"
     ]
    }
   ],
   "source": [
    "# 6. SMOTE untuk balancing kelas\n",
    "smote = SMOTE(random_state=42)\n",
    "X_bal, y_bal = smote.fit_resample(X, y)\n",
    "\n",
    "print(\"Distribusi setelah SMOTE:\\n\", pd.Series(y_bal).value_counts())"
   ]
  },
  {
   "cell_type": "code",
   "execution_count": 14,
   "id": "b58d37fb-80c5-4829-a723-58b95d2471bf",
   "metadata": {},
   "outputs": [],
   "source": [
    "# 7. Train-test split\n",
    "X_train, X_test, y_train, y_test = train_test_split(X_bal, y_bal, test_size=0.1, random_state=42)\n"
   ]
  },
  {
   "cell_type": "code",
   "execution_count": 15,
   "id": "6a3c9fef-b4c4-4538-9163-e5acaf12260b",
   "metadata": {},
   "outputs": [
    {
     "name": "stdout",
     "output_type": "stream",
     "text": [
      "Best Params: {'alpha': 0.1, 'fit_prior': False}\n"
     ]
    }
   ],
   "source": [
    "# 8. Hyperparameter Tuning\n",
    "param_grid = {\n",
    "    'alpha': [0.1, 0.5, 1.0],\n",
    "    'fit_prior': [True, False]\n",
    "}\n",
    "\n",
    "grid_search = GridSearchCV(MultinomialNB(), param_grid, cv=5, scoring='accuracy')\n",
    "grid_search.fit(X_train, y_train)\n",
    "best_model = grid_search.best_estimator_\n",
    "\n",
    "print(\"Best Params:\", grid_search.best_params_)\n",
    "\n"
   ]
  },
  {
   "cell_type": "code",
   "execution_count": 16,
   "id": "48720cc1-92ad-49a5-bec9-9a05223222e2",
   "metadata": {},
   "outputs": [
    {
     "name": "stdout",
     "output_type": "stream",
     "text": [
      "Akurasi: 0.6454033771106942\n",
      "Classification Report:\n",
      "               precision    recall  f1-score   support\n",
      "\n",
      "          -1       0.61      0.71      0.66       511\n",
      "           0       0.61      0.57      0.59       513\n",
      "           1       0.71      0.66      0.68       575\n",
      "\n",
      "    accuracy                           0.65      1599\n",
      "   macro avg       0.65      0.64      0.64      1599\n",
      "weighted avg       0.65      0.65      0.64      1599\n",
      "\n"
     ]
    }
   ],
   "source": [
    "# 9. Evaluate\n",
    "y_pred = best_model.predict(X_test)\n",
    "acc = accuracy_score(y_test, y_pred)\n",
    "print(\"Akurasi:\", acc)\n",
    "print(\"Classification Report:\\n\", classification_report(y_test, y_pred))"
   ]
  },
  {
   "cell_type": "code",
   "execution_count": 17,
   "id": "a87c5943-13fb-4b44-8169-53b213eb9ed3",
   "metadata": {},
   "outputs": [
    {
     "data": {
      "image/png": "[encoded data removed]",
      "text/plain": [
       "<Figure size 800x600 with 2 Axes>"
      ]
     },
     "metadata": {},
     "output_type": "display_data"
    }
   ],
   "source": [
    "# 10. Confusion Matrix\n",
    "cm = confusion_matrix(y_test, y_pred)\n",
    "plt.figure(figsize=(8,6))\n",
    "sns.heatmap(cm, annot=True, fmt='d', cmap='Blues', xticklabels=[-1,0,1], yticklabels=[-1,0,1])\n",
    "plt.xlabel('Predicted')\n",
    "plt.ylabel('Actual')\n",
    "plt.title('Confusion Matrix')\n",
    "plt.tight_layout()\n",
    "plt.savefig(\"confusion_matrix_gridsearch.png\")\n",
    "plt.show()"
   ]
  },
  {
   "cell_type": "code",
   "execution_count": null,
   "id": "baf967d2-3a0d-42b7-8a32-6ca12c45b0be",
   "metadata": {},
   "outputs": [],
   "source": [
    "# 11. Save model dan vectorizer\n",
    "joblib.dump(best_model, \"naive_bayes_best_model.pkl\")\n",
    "joblib.dump(tfidf, \"tfidf_vectorizer.pkl\")"
   ]
  },
  {
   "cell_type": "code",
   "execution_count": null,
   "id": "4a06ae5b-4950-44f9-ad39-6195a23bfa25",
   "metadata": {},
   "outputs": [],
   "source": [
    "# 12. Save cleaned dataset\n",
    "df.to_csv(\"cleaned_dataset_final.csv\", index=False)\n"
   ]
  },
  {
   "cell_type": "code",
   "execution_count": null,
   "id": "c6afaaf5-d4aa-43b3-8b22-9585ef524842",
   "metadata": {},
   "outputs": [],
   "source": []
  }
 ],
 "metadata": {
  "kernelspec": {
   "display_name": "Python 3 (ipykernel)",
   "language": "python",
   "name": "python3"
  },
  "language_info": {
   "codemirror_mode": {
    "name": "ipython",
    "version": 3
   },
   "file_extension": ".py",
   "mimetype": "text/x-python",
   "name": "python",
   "nbconvert_exporter": "python",
   "pygments_lexer": "ipython3",
   "version": "3.10.6"
  }
 },
 "nbformat": 4,
 "nbformat_minor": 5
}
